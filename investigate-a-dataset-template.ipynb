{
 "cells": [
  {
   "attachments": {},
   "cell_type": "markdown",
   "metadata": {},
   "source": [
    "> **Tip**: Welcome to the Investigate a Dataset project! You will find tips in quoted sections like this to help organize your approach to your investigation. Before submitting your project, it will be a good idea to go back through your report and remove these sections to make the presentation of your work as tidy as possible. First things first, you might want to double-click this Markdown cell and change the title so that it reflects your dataset and investigation.\n",
    "\n",
    "# Project: Investigate a Doctor Appointments dataset\n",
    "\n",
    "## Table of Contents\n",
    "<ul>\n",
    "<li><a href=\"#intro\">Introduction</a></li>\n",
    "<li><a href=\"#wrangling\">Data Wrangling</a></li>\n",
    "<li><a href=\"#eda\">Exploratory Data Analysis</a></li>\n",
    "<li><a href=\"#conclusions\">Conclusions</a></li>\n",
    "</ul>"
   ]
  },
  {
   "cell_type": "markdown",
   "metadata": {},
   "source": [
    "<a id='intro'></a>\n",
    "## Introduction\n",
    "\n",
    "> **Tip**: In this section of the report, provide a brief introduction to the dataset you've selected for analysis. At the end of this section, describe the questions that you plan on exploring over the course of the report. Try to build your report around the analysis of at least one dependent variable and three independent variables.\n",
    ">\n",
    "> If you haven't yet selected and downloaded your data, make sure you do that first before coming back here. If you're not sure what questions to ask right now, then make sure you familiarize yourself with the variables and the dataset context for ideas of what to explore."
   ]
  },
  {
   "cell_type": "code",
   "execution_count": 1,
   "metadata": {
    "collapsed": true
   },
   "outputs": [
    {
     "ename": "ModuleNotFoundError",
     "evalue": "No module named 'matplotlib'",
     "output_type": "error",
     "traceback": [
      "\u001b[1;31m---------------------------------------------------------------------------\u001b[0m",
      "\u001b[1;31mModuleNotFoundError\u001b[0m                       Traceback (most recent call last)",
      "Cell \u001b[1;32mIn[1], line 4\u001b[0m\n\u001b[0;32m      1\u001b[0m \u001b[39m# Use this cell to set up import statements for all of the packages that you\u001b[39;00m\n\u001b[0;32m      2\u001b[0m \u001b[39m#   plan to use.\u001b[39;00m\n\u001b[0;32m      3\u001b[0m \u001b[39mimport\u001b[39;00m \u001b[39mpandas\u001b[39;00m \u001b[39mas\u001b[39;00m \u001b[39mpd\u001b[39;00m \n\u001b[1;32m----> 4\u001b[0m \u001b[39mimport\u001b[39;00m \u001b[39mmatplotlib\u001b[39;00m\u001b[39m.\u001b[39;00m\u001b[39mpyplot\u001b[39;00m \u001b[39mas\u001b[39;00m \u001b[39mplt\u001b[39;00m\n\u001b[0;32m      5\u001b[0m \u001b[39mimport\u001b[39;00m \u001b[39mnumpy\u001b[39;00m \u001b[39mas\u001b[39;00m \u001b[39mnp\u001b[39;00m\n\u001b[0;32m      6\u001b[0m \u001b[39mimport\u001b[39;00m \u001b[39mseaborn\u001b[39;00m \u001b[39mas\u001b[39;00m \u001b[39msns\u001b[39;00m\n",
      "\u001b[1;31mModuleNotFoundError\u001b[0m: No module named 'matplotlib'"
     ]
    }
   ],
   "source": [
    "# Use this cell to set up import statements for all of the packages that you\n",
    "#   plan to use.\n",
    "import pandas as pd \n",
    "import matplotlib.pyplot as plt\n",
    "import numpy as np\n",
    "import seaborn as sns\n",
    "%matplotlib inline\n",
    "# Remember to include a 'magic word' so that your visualizations are plotted\n",
    "#   inline with the notebook. See this page for more:\n",
    "#   http://ipython.readthedocs.io/en/stable/interactive/magics.html\n",
    "appointments_df = pd.read_csv('noshowappointments-kagglev2-may-2016.csv')\n",
    "appointments_df.shape"
   ]
  },
  {
   "cell_type": "markdown",
   "metadata": {},
   "source": [
    "<a id='wrangling'></a>\n",
    "## Data Wrangling\n",
    "\n",
    "> **Tip**: In this section of the report, you will load in the data, check for cleanliness, and then trim and clean your dataset for analysis. Make sure that you document your steps carefully and justify your cleaning decisions.\n",
    "\n",
    "### General Properties"
   ]
  },
  {
   "cell_type": "code",
   "execution_count": null,
   "metadata": {
    "collapsed": true
   },
   "outputs": [],
   "source": [
    "# Load your data and print out a few lines. Perform operations to inspect data\n",
    "#   types and look for instances of missing or possibly errant data.\n",
    "appointments_df.isna().sum()"
   ]
  },
  {
   "cell_type": "code",
   "execution_count": null,
   "metadata": {},
   "outputs": [],
   "source": [
    "appointments_df.info() "
   ]
  },
  {
   "cell_type": "code",
   "execution_count": null,
   "metadata": {},
   "outputs": [],
   "source": [
    "appointments_df.head(5)"
   ]
  },
  {
   "cell_type": "markdown",
   "metadata": {},
   "source": [
    "> **Tip**: You should _not_ perform too many operations in each cell. Create cells freely to explore your data. One option that you can take with this project is to do a lot of explorations in an initial notebook. These don't have to be organized, but make sure you use enough comments to understand the purpose of each code cell. Then, after you're done with your analysis, create a duplicate notebook where you will trim the excess and organize your steps so that you have a flowing, cohesive report.\n",
    "\n",
    "> **Tip**: Make sure that you keep your reader informed on the steps that you are taking in your investigation. Follow every code cell, or every set of related code cells, with a markdown cell to describe to the reader what was found in the preceding cell(s). Try to make it so that the reader can then understand what they will be seeing in the following cell(s).\n",
    "\n",
    "### Data Cleaning (Replace this with more specific notes!)\n",
    "\n",
    "***First***: i'll remove all Null values from the dataset."
   ]
  },
  {
   "cell_type": "code",
   "execution_count": null,
   "metadata": {
    "collapsed": true
   },
   "outputs": [],
   "source": [
    "# After discussing the structure of the data and any problems that need to be\n",
    "#   cleaned, perform those cleaning steps in the second part of this section.\n",
    "appointments_df.describe()"
   ]
  },
  {
   "cell_type": "markdown",
   "metadata": {},
   "source": [
    "### checking data types for some duplicates And also getting the Average Vote_count in the dataset\n"
   ]
  },
  {
   "cell_type": "code",
   "execution_count": null,
   "metadata": {},
   "outputs": [],
   "source": [
    "#Describing the new dataset first\n",
    "sum(appointments_df.duplicated())"
   ]
  },
  {
   "cell_type": "code",
   "execution_count": null,
   "metadata": {},
   "outputs": [],
   "source": [
    "#Shows no duplicated data\n",
    "sns.pairplot(appointments_df.sample(2000))"
   ]
  },
  {
   "cell_type": "code",
   "execution_count": null,
   "metadata": {},
   "outputs": [],
   "source": [
    "appointments_df[(appointments_df['no_show']== \"No\")].count() #88208\n",
    "appointments_df[(appointments_df['no_show']== \"No\") & (appointments_df['gender']== \"M\")].count() # 30962\n",
    "appointments_df[(appointments_df['no_show']== \"No\") & (appointments_df['gender']== \"F\")].count() # 67246\n",
    "appointments_df[(appointments_df['age']== 0)].shape[0] #there are 3539 with age = 0 we will need to drop these."
   ]
  },
  {
   "cell_type": "markdown",
   "metadata": {},
   "source": [
    "### Changing the data type of release date to be a datetime instead of string"
   ]
  },
  {
   "cell_type": "code",
   "execution_count": null,
   "metadata": {},
   "outputs": [],
   "source": [
    "#Fixing column names for easier analysis \n",
    "appointments_df = appointments_df.rename(columns = lambda x: x.replace('-', '_').lower())\n",
    "appointments_df.columns\n",
    "# clean_TMDB_df['release_date'] = pd.to_datetime(clean_TMDB_df['release_date'])\n",
    "# clean_TMDB_df['release_date']"
   ]
  },
  {
   "cell_type": "markdown",
   "metadata": {},
   "source": [
    "### Checking for empty values in the dataset And dropping rows with 0 revenue in them"
   ]
  },
  {
   "cell_type": "code",
   "execution_count": null,
   "metadata": {},
   "outputs": [],
   "source": [
    "appointments_df['scheduledday'] = pd.to_datetime(appointments_df['scheduledday'])\n",
    "appointments_df.info()\n",
    "# clean_TMDB_df['release_date']\n",
    "#zero_revenue = clean_TMDB_df[(clean_TMDB_df['revenue']==0)].shape[0]\n",
    "# zero_runtime = clean_TMDB_df[(clean_TMDB_df['runtime']==0)].shape[0]\n",
    "##zero_revenue #6016\n",
    "#zero_runtime 2\n",
    "# drop_idx = clean_TMDB_df.index[clean_TMDB_df['revenue'] == 0].tolist()\n",
    "# #clean_TMDB_df[clean_TMDB_df['revenue'] == 0]\n",
    "# clean_TMDB_df = clean_TMDB_df.drop(index = drop_idx, axis=0)"
   ]
  },
  {
   "cell_type": "markdown",
   "metadata": {},
   "source": [
    "#### Checking for 0 budget films"
   ]
  },
  {
   "cell_type": "code",
   "execution_count": null,
   "metadata": {},
   "outputs": [],
   "source": [
    "appointments_df['appointmentday'] = pd.to_datetime(appointments_df['appointmentday'])\n",
    "appointments_df.info()\n",
    "# zero_budget = clean_TMDB_df[(clean_TMDB_df['budget']==0)].shape[0]\n",
    "# zero_budge #5696"
   ]
  },
  {
   "cell_type": "markdown",
   "metadata": {},
   "source": [
    "#### Checking for 0 runtime movies"
   ]
  },
  {
   "cell_type": "code",
   "execution_count": null,
   "metadata": {},
   "outputs": [],
   "source": [
    "drop_idx = appointments_df.index[appointments_df['age'] == 0].tolist()\n",
    "appointments_df = appointments_df.drop(index = drop_idx, axis=0)\n",
    "# zero_runtime = clean_TMDB_df[(clean_TMDB_df['runtime']==0)].shape[0]\n",
    "# zero_runtime #31\n",
    "appointments_df.shape"
   ]
  },
  {
   "cell_type": "markdown",
   "metadata": {},
   "source": [
    "#### Dropping movies with 0 runtime, Revenue 0, and budget 0 Movies"
   ]
  },
  {
   "cell_type": "code",
   "execution_count": null,
   "metadata": {},
   "outputs": [],
   "source": [
    "appointments_df[(appointments_df['gender'] != \"M\") & (appointments_df['gender'] != \"F\")].shape[0]\n",
    "x = appointments_df[(appointments_df['age'] >= 50) & (appointments_df['diabetes'] == 1)] #6567\n",
    "y = appointments_df[(appointments_df['age'] < 50) & (appointments_df['diabetes'] == 1)] #1376\n",
    "appointments_df[(appointments_df['diabetes']==1)].shape[0] #7943"
   ]
  },
  {
   "cell_type": "code",
   "execution_count": null,
   "metadata": {},
   "outputs": [],
   "source": [
    "appointments_df.describe()\n",
    "appointments_df.sample(2000).plot.bar(x='gender',y='diabetes') #sampling my data since the notebook takes forever to load"
   ]
  },
  {
   "cell_type": "code",
   "execution_count": null,
   "metadata": {},
   "outputs": [],
   "source": [
    "#clean_TMDB_df  3855 rows x 13 columns \n",
    "#TMDB_df 10866 rows × 21 columns\n",
    "#describing our cleaned dataset since numbers would be more reliable now\n",
    "\n",
    "clean_TMDB_df.shape"
   ]
  },
  {
   "cell_type": "code",
   "execution_count": null,
   "metadata": {},
   "outputs": [],
   "source": [
    "#checking for clean Data types\n",
    "clean_TMDB_df.info()"
   ]
  },
  {
   "cell_type": "markdown",
   "metadata": {},
   "source": [
    "### Next i'll drop columns which will not be helpful during the analysis process\n",
    "such as 'id', 'imdb_id', 'cast', 'budget_adj','revenue_adj', 'overview', 'tagline', 'homepage'"
   ]
  },
  {
   "cell_type": "code",
   "execution_count": null,
   "metadata": {},
   "outputs": [],
   "source": [
    "clean_TMDB_df = clean_TMDB_df.drop(['id', 'imdb_id', 'cast', 'budget_adj','revenue_adj', 'overview', 'tagline', 'homepage'], axis = 1)\n",
    "clean_TMDB_df.describe()"
   ]
  },
  {
   "cell_type": "markdown",
   "metadata": {},
   "source": [
    "### Creating a new column containing the profit of each movie\n"
   ]
  },
  {
   "cell_type": "code",
   "execution_count": null,
   "metadata": {},
   "outputs": [],
   "source": [
    "clean_TMDB_df['profit'] = clean_TMDB_df['revenue'] - clean_TMDB_df['budget']\n",
    "clean_TMDB_df['profit'].max()"
   ]
  },
  {
   "cell_type": "markdown",
   "metadata": {},
   "source": [
    "<a id='eda'></a>\n",
    "## Exploratory Data Analysis\n",
    "\n",
    "> **Tip**: Now that you've trimmed and cleaned your data, you're ready to move on to exploration. Compute statistics and create visualizations with the goal of addressing the research questions that you posed in the Introduction section. It is recommended that you be systematic with your approach. Look at one variable at a time, and then follow it up by looking at relationships between variables.\n",
    "\n",
    "### What is the Movie with the highest number of votes?\n",
    "### and how far is it from the average vote count?\n"
   ]
  },
  {
   "cell_type": "code",
   "execution_count": null,
   "metadata": {
    "collapsed": true
   },
   "outputs": [],
   "source": [
    "# Use this, and more code cells, to explore your data. Don't forget to add\n",
    "#   Markdown cells to document your observations and findings.\n",
    "max_votes = clean_TMDB_df.vote_count.max() #getting the max votes from the cleaned df and saving it in a meaningful variable = 9767\n",
    "clean_TMDB_df[clean_TMDB_df['vote_count'] == max_votes] #A query that returns all the information about the movie with maximum number of votes\n",
    "#knowing that the Average vote count is 643.62 Interstellar is way above the average."
   ]
  },
  {
   "cell_type": "markdown",
   "metadata": {},
   "source": [
    "### Drawing a graph showing if there are any correlation between columns"
   ]
  },
  {
   "cell_type": "code",
   "execution_count": null,
   "metadata": {},
   "outputs": [],
   "source": [
    "sns.pairplot(clean_TMDB_df) #doc. reference: https://seaborn.pydata.org/generated/seaborn.pairplot.html"
   ]
  },
  {
   "cell_type": "code",
   "execution_count": null,
   "metadata": {},
   "outputs": [],
   "source": [
    "#clean_TMDB_df.columns\n",
    "clean_TMDB_df.plot.scatter(x = 'revenue',  y = 'profit', s = 50 ,c = 'green') # shows a clear positive correlation between revenue and profit"
   ]
  },
  {
   "cell_type": "markdown",
   "metadata": {},
   "source": [
    "### Who is the most profitable Director in average?"
   ]
  },
  {
   "cell_type": "code",
   "execution_count": null,
   "metadata": {},
   "outputs": [],
   "source": [
    "clean_TMDB_df.groupby('director')['profit'].mean() #doc reference: https://pandas.pydata.org/docs/reference/api/pandas.DataFrame.groupby.html\n",
    "ddf = clean_TMDB_df.groupby('director')['profit'].mean()\n",
    "ddf = ddf.to_frame() #doc reference: https://pandas.pydata.org/docs/reference/api/pandas.Series.to_frame.html\n",
    "ddf['director'] = ddf.index #doc reference: https://pandas.pydata.org/docs/reference/api/pandas.Index.html\n",
    "ddf.head(1)"
   ]
  },
  {
   "cell_type": "code",
   "execution_count": null,
   "metadata": {},
   "outputs": [],
   "source": [
    "plot = ddf.sort_values(by='profit', ascending=False).head(5)#doc. reference https://pandas.pydata.org/docs/reference/api/pandas.DataFrame.sort_values.html\n",
    "\n",
    "plot.plot.bar(x = 'director', y ='profit')\n",
    "\n",
    "#shows Chris Buckljennifer Lee is the most earning director on average\n"
   ]
  },
  {
   "cell_type": "markdown",
   "metadata": {},
   "source": [
    "### What are the most productive year per number of movies produced\n",
    "number of movies per year ,most productive 10  years."
   ]
  },
  {
   "cell_type": "code",
   "execution_count": null,
   "metadata": {
    "collapsed": true
   },
   "outputs": [],
   "source": [
    "# Continue to explore the data to address your additional research\n",
    "#   questions. Add more headers as needed if you have more questions to\n",
    "#   investigate.\n",
    "most_productive_year = clean_TMDB_df['release_year'].groupby(clean_TMDB_df.release_year).agg('count') #grouping rows with the same release_year\n",
    "most_productive_year = most_productive_year.to_frame() \n",
    "most_productive_year['count'] = most_productive_year.index\n",
    "most_productive_year.rename(columns={'release_year':'count', 'count':'release_year'}, inplace=True)\n"
   ]
  },
  {
   "cell_type": "code",
   "execution_count": null,
   "metadata": {},
   "outputs": [],
   "source": [
    "most_productive_year = most_productive_year.sort_values(by='count', ascending=False)\n",
    "sns.pointplot(x='release_year', y = 'count', data = most_productive_year.head(10))"
   ]
  },
  {
   "cell_type": "markdown",
   "metadata": {},
   "source": [
    "### What are the Highest Profitable Movies?\n",
    "a plot showing highest profitable movies "
   ]
  },
  {
   "cell_type": "code",
   "execution_count": null,
   "metadata": {},
   "outputs": [],
   "source": [
    "highest_profit_movie = pd.DataFrame(clean_TMDB_df['profit'].sort_values(ascending = False))\n",
    "highest_profit_movie['original_title'] = clean_TMDB_df['original_title']\n",
    "sns.pointplot(x='profit', y = 'original_title', data = highest_profit_movie.head(10)) # showing top 10 movies"
   ]
  },
  {
   "cell_type": "markdown",
   "metadata": {},
   "source": [
    "<a id='conclusions'></a>\n",
    "## Conclusions\n",
    "\n",
    "> **Tip**: Finally, summarize your findings and the results that have been performed. Make sure that you are clear with regards to the limitations of your exploration. If you haven't done any statistical tests, do not imply any statistical conclusions. And make sure you avoid implying causation from correlation!\n",
    "\n",
    "> **Tip**: Once you are satisfied with your work, you should save a copy of the report in HTML or PDF form via the **File** > **Download as** submenu. Before exporting your report, check over it to make sure that the flow of the report is complete. You should probably remove all of the \"Tip\" quotes like this one so that the presentation is as tidy as possible. Congratulations!"
   ]
  },
  {
   "cell_type": "code",
   "execution_count": null,
   "metadata": {
    "collapsed": true
   },
   "outputs": [],
   "source": [
    "#Chris Buckljennifer Lee is the most earning director in average\n",
    "#Avatar is the most earning movie of all time\n",
    "#2011 is the most productive year with 200 movies\n",
    "#there are several Correlations in the data. these are my conclusions so far"
   ]
  }
 ],
 "metadata": {
  "interpreter": {
   "hash": "f515e17ece7fdd10b748da9c779c75bf809ff89faf3460578638f0110370c271"
  },
  "kernelspec": {
   "display_name": "Python 3.8.5 64-bit ('base': conda)",
   "name": "python3"
  },
  "language_info": {
   "codemirror_mode": {
    "name": "ipython",
    "version": 3
   },
   "file_extension": ".py",
   "mimetype": "text/x-python",
   "name": "python",
   "nbconvert_exporter": "python",
   "pygments_lexer": "ipython3",
   "version": "3.9.6"
  }
 },
 "nbformat": 4,
 "nbformat_minor": 2
}
